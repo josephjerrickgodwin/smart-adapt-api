{
 "cells": [
  {
   "cell_type": "code",
   "execution_count": 7,
   "metadata": {},
   "outputs": [
    {
     "name": "stdout",
     "output_type": "stream",
     "text": [
      "2025-01-30 17:57:25,865 - datasets - INFO - PyTorch version 2.5.1 available.\n",
      "2025-01-30 17:57:26,134 - faiss.loader - INFO - Loading faiss with AVX512 support.\n",
      "2025-01-30 17:57:26,150 - faiss.loader - INFO - Successfully loaded faiss with AVX512 support.\n",
      "2025-01-30 17:57:26,158 - sentence_transformers.SentenceTransformer - INFO - Use pytorch device_name: cpu\n",
      "2025-01-30 17:57:26,158 - sentence_transformers.SentenceTransformer - INFO - Load pretrained SentenceTransformer: Alibaba-NLP/gte-base-en-v1.5\n",
      "2025-01-30 17:57:29,796 - src.service.fine_tuning.model_service - INFO - Started loading the `thinker` tokenizer\n",
      "2025-01-30 17:57:30,341 - src.service.fine_tuning.model_service - INFO - Started loading the `thinker` model\n",
      "2025-01-30 17:57:37,471 - src.service.fine_tuning.model_service - INFO - Started loading the `inference` tokenizer\n",
      "2025-01-30 17:57:38,232 - src.service.fine_tuning.model_service - INFO - Started loading the `inference` model\n",
      "2025-01-30 17:57:44,543 - src.service.fine_tuning.model_service - INFO - Successfully loaded the `thinker` and `inference` instances\n",
      "\u001b[32mINFO\u001b[0m:     Started server process [\u001b[36m16145\u001b[0m]\n",
      "\u001b[32mINFO\u001b[0m:     Waiting for application startup.\n",
      "\u001b[32mINFO\u001b[0m:     Application startup complete.\n",
      "\u001b[32mINFO\u001b[0m:     Uvicorn running on \u001b[1mhttp://0.0.0.0:8080\u001b[0m (Press CTRL+C to quit)\n",
      "2025-01-30 17:58:00,234 - src.controller.inference_controller - INFO - Started fetching the existing index\n",
      "\u001b[32mINFO\u001b[0m:     112.134.136.22:31967 - \"\u001b[1mPOST /v1/completions HTTP/1.1\u001b[0m\" \u001b[32m200 OK\u001b[0m\n",
      "2025-01-30 17:58:00,238 - src.service.fine_tuning.model_service - INFO - Found no LoRA adapters\n",
      "\u001b[32mINFO\u001b[0m:     95.214.55.185:50760 - \"\u001b[1mGET / HTTP/1.1\u001b[0m\" \u001b[31m404 Not Found\u001b[0m\n",
      "^C\n",
      "\u001b[32mINFO\u001b[0m:     Shutting down\n",
      "\u001b[32mINFO\u001b[0m:     Waiting for application shutdown.\n",
      "\u001b[32mINFO\u001b[0m:     Application shutdown complete.\n",
      "\u001b[32mINFO\u001b[0m:     Finished server process [\u001b[36m16145\u001b[0m]\n"
     ]
    }
   ],
   "source": [
    "!python3 main.py"
   ]
  }
 ],
 "metadata": {
  "kernelspec": {
   "display_name": ".venv",
   "language": "python",
   "name": "python3"
  },
  "language_info": {
   "codemirror_mode": {
    "name": "ipython",
    "version": 3
   },
   "file_extension": ".py",
   "mimetype": "text/x-python",
   "name": "python",
   "nbconvert_exporter": "python",
   "pygments_lexer": "ipython3",
   "version": "3.11.11"
  }
 },
 "nbformat": 4,
 "nbformat_minor": 2
}
