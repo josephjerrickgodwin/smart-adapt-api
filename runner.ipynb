{
 "cells": [
  {
   "cell_type": "code",
   "execution_count": 17,
   "metadata": {},
   "outputs": [
    {
     "name": "stdout",
     "output_type": "stream",
     "text": [
      "2025-01-30 21:38:33,480 - datasets - INFO - PyTorch version 2.5.1 available.\n",
      "2025-01-30 21:38:33,760 - faiss.loader - INFO - Loading faiss with AVX512 support.\n",
      "2025-01-30 21:38:33,777 - faiss.loader - INFO - Successfully loaded faiss with AVX512 support.\n",
      "2025-01-30 21:38:33,786 - sentence_transformers.SentenceTransformer - INFO - Use pytorch device_name: cpu\n",
      "2025-01-30 21:38:33,786 - sentence_transformers.SentenceTransformer - INFO - Load pretrained SentenceTransformer: Alibaba-NLP/gte-base-en-v1.5\n",
      "2025-01-30 21:38:39,451 - src.service.fine_tuning.model_service - INFO - Started loading the `thinker` tokenizer\n",
      "2025-01-30 21:38:40,015 - src.service.fine_tuning.model_service - INFO - Started loading the `thinker` model\n",
      "2025-01-30 21:38:46,961 - src.service.fine_tuning.model_service - INFO - Started loading the `inference` tokenizer\n",
      "2025-01-30 21:38:47,756 - src.service.fine_tuning.model_service - INFO - Started loading the `inference` model\n",
      "2025-01-30 21:38:54,852 - src.service.fine_tuning.model_service - INFO - Successfully loaded the `thinker` and `inference` instances\n",
      "\u001b[32mINFO\u001b[0m:     Started server process [\u001b[36m68486\u001b[0m]\n",
      "\u001b[32mINFO\u001b[0m:     Waiting for application startup.\n",
      "\u001b[32mINFO\u001b[0m:     Application startup complete.\n",
      "\u001b[32mINFO\u001b[0m:     Uvicorn running on \u001b[1mhttp://0.0.0.0:8080\u001b[0m (Press CTRL+C to quit)\n",
      "\u001b[32mINFO\u001b[0m:     112.134.136.22:31315 - \"\u001b[1mOPTIONS /v1/completions HTTP/1.1\u001b[0m\" \u001b[32m200 OK\u001b[0m\n",
      "2025-01-30 21:39:04,273 - src.controller.inference_controller - INFO - Started fetching the existing index\n",
      "\u001b[32mINFO\u001b[0m:     112.134.136.22:31315 - \"\u001b[1mPOST /v1/completions HTTP/1.1\u001b[0m\" \u001b[32m200 OK\u001b[0m\n",
      "2025-01-30 21:39:04,279 - src.service.fine_tuning.model_service - INFO - Found no LoRA adapters\n",
      "^C\n",
      "\u001b[32mINFO\u001b[0m:     Shutting down\n",
      "\u001b[32mINFO\u001b[0m:     Waiting for application shutdown.\n",
      "\u001b[32mINFO\u001b[0m:     Application shutdown complete.\n",
      "\u001b[32mINFO\u001b[0m:     Finished server process [\u001b[36m68486\u001b[0m]\n"
     ]
    }
   ],
   "source": [
    "!python3 main.py"
   ]
  }
 ],
 "metadata": {
  "kernelspec": {
   "display_name": ".venv",
   "language": "python",
   "name": "python3"
  },
  "language_info": {
   "codemirror_mode": {
    "name": "ipython",
    "version": 3
   },
   "file_extension": ".py",
   "mimetype": "text/x-python",
   "name": "python",
   "nbconvert_exporter": "python",
   "pygments_lexer": "ipython3",
   "version": "3.11.11"
  }
 },
 "nbformat": 4,
 "nbformat_minor": 2
}
